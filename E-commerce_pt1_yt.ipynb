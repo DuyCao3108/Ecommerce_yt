{
 "cells": [
  {
   "cell_type": "code",
   "execution_count": null,
   "metadata": {},
   "outputs": [],
   "source": [
    "import pandas as pd\n",
    "import numpy as np"
   ]
  },
  {
   "cell_type": "code",
   "execution_count": null,
   "metadata": {},
   "outputs": [],
   "source": [
    "customer = pd.read_csv(r'C:\\Users\\Admin\\Brazilian Ecommerce\\olist_customers_dataset.csv')\n",
    "geo = pd.read_csv(r'C:\\Users\\Admin\\Brazilian Ecommerce\\olist_geolocation_dataset.csv')\n",
    "item = pd.read_csv(r'C:\\Users\\Admin\\Brazilian Ecommerce\\olist_order_items_dataset.csv')\n",
    "payment = pd.read_csv(r'C:\\Users\\Admin\\Brazilian Ecommerce\\olist_order_payments_dataset.csv')\n",
    "review = pd.read_csv(r'C:\\Users\\Admin\\Brazilian Ecommerce\\olist_order_reviews_dataset.csv')\n",
    "order = pd.read_csv(r'C:\\Users\\Admin\\Brazilian Ecommerce\\olist_orders_dataset.csv')\n",
    "product_list = pd.read_csv(r'C:\\Users\\Admin\\Brazilian Ecommerce\\olist_products_dataset.csv')\n",
    "seller = pd.read_csv(r'C:\\Users\\Admin\\Brazilian Ecommerce\\olist_sellers_dataset.csv')\n",
    "product_category = pd.read_csv(r'C:\\Users\\Admin\\Brazilian Ecommerce\\product_category_name_translation.csv')\n",
    "MQL = pd.read_csv(r'C:\\Users\\Admin\\Brazilian Ecommerce\\olist_marketing_qualified_leads_dataset.csv')\n",
    "closed_deals = pd.read_csv(r'C:\\Users\\Admin\\Brazilian Ecommerce\\olist_closed_deals_dataset.csv')"
   ]
  },
  {
   "cell_type": "code",
   "execution_count": null,
   "metadata": {},
   "outputs": [],
   "source": [
    "list_of_df = [customer,\n",
    "              geo,\n",
    "              item,\n",
    "              payment,\n",
    "              review,\n",
    "              order,\n",
    "              product_list,\n",
    "              seller,\n",
    "              product_category,\n",
    "              closed_deals,\n",
    "              MQL]\n",
    "\n",
    "for df in list_of_df:\n",
    "    print(list(df.columns), len(df.columns))"
   ]
  },
  {
   "cell_type": "markdown",
   "metadata": {},
   "source": [
    "# 1. RFM ANALYSIS"
   ]
  },
  {
   "cell_type": "markdown",
   "metadata": {},
   "source": [
    "## 1.1. RECENCY"
   ]
  },
  {
   "cell_type": "code",
   "execution_count": null,
   "metadata": {},
   "outputs": [],
   "source": [
    "# getting the latest day of purchase for each user\n",
    "recency_table = customer.merge(order, on =\"customer_id\")\n",
    "recency_table = recency_table.groupby('customer_unique_id').agg({'order_purchase_timestamp': 'max'}).reset_index()\n",
    "# convert to datetime dtype\n",
    "recency_table['order_purchase_timestamp'] = pd.to_datetime(recency_table['order_purchase_timestamp'])\n",
    "# calculate the current day \n",
    "current_day = pd.to_datetime(max(order['order_purchase_timestamp']))\n",
    "# calculate the days between\n",
    "recency_table['days_between'] = (current_day - recency_table['order_purchase_timestamp']).apply(lambda x: int(str(x).split()[0]))\n",
    "# def function that scores the data\n",
    "def scoring(x):\n",
    "    # calculate quantiles\n",
    "    quan_val_list = []\n",
    "    for quan in [0.2,0.4,0.6,0.8]:\n",
    "        quan_val_list.append(np.quantile(x,quan))\n",
    "    # label the data base on the quantile value\n",
    "    def labeling(x):\n",
    "        if x < quan_val_list[0]: return 1\n",
    "        elif x < quan_val_list[1]: return 2\n",
    "        elif x < quan_val_list[2]: return 3\n",
    "        elif x < quan_val_list[3]: return 4\n",
    "        else: return 5\n",
    "\n",
    "    return x.apply(labeling)\n",
    "\n",
    "recency_table['recency_score'] = scoring(recency_table['days_between'])"
   ]
  },
  {
   "cell_type": "markdown",
   "metadata": {},
   "source": [
    "## 1.2. FREQUENCY"
   ]
  },
  {
   "cell_type": "code",
   "execution_count": null,
   "metadata": {},
   "outputs": [],
   "source": [
    "# merging df\n",
    "frequency_table = customer.merge(order, on=\"customer_id\")\n",
    "# getting interested information\n",
    "frequency_table = frequency_table.groupby('customer_unique_id').agg({\n",
    "    \"order_purchase_timestamp\": ['min', 'max'],\n",
    "    \"order_id\": 'count'\n",
    "}).reset_index()\n",
    "# change columns\n",
    "frequency_table.columns = ['customer_unique_id', 'min', 'max', 'count']\n",
    "# change data type\n",
    "frequency_table['max'] = pd.to_datetime(frequency_table['max'])\n",
    "frequency_table['min'] = pd.to_datetime(frequency_table['min'])\n",
    "# days between first and last day of purchase \n",
    "frequency_table['days_between'] = (frequency_table['max'] - frequency_table['min']).apply(lambda x: int(str(x).split()[0]))\n",
    "frequency_table['days_between'].value_counts()\n",
    "# get rid of one-time-purchase customer\n",
    "frequency_table = frequency_table[frequency_table['days_between']>0]\n",
    "# calculate purchase_rate\n",
    "frequency_table['purchase_rate'] = frequency_table['count'] / frequency_table['days_between']\n",
    "# score the purchase_rate\n",
    "frequency_table['frequency_score'] = scoring(frequency_table['purchase_rate'])"
   ]
  },
  {
   "cell_type": "markdown",
   "metadata": {},
   "source": [
    "## 1.3. MONETARY"
   ]
  },
  {
   "cell_type": "code",
   "execution_count": null,
   "metadata": {},
   "outputs": [],
   "source": [
    "monetary_table = payment.merge(order, on=\"order_id\").merge(customer, on=\"customer_id\")\n",
    "monetary_table = monetary_table.groupby('customer_unique_id').agg({'payment_value':'sum'}).reset_index()\n",
    "monetary_table['monetary_score'] = scoring(monetary_table['payment_value'])\n",
    "monetary_table"
   ]
  },
  {
   "cell_type": "markdown",
   "metadata": {},
   "source": [
    "## 1.4 COMBINE ALL TOGETHER"
   ]
  },
  {
   "cell_type": "code",
   "execution_count": null,
   "metadata": {},
   "outputs": [],
   "source": [
    "final_table = recency_table.merge(monetary_table, on = 'customer_unique_id').merge(frequency_table, on='customer_unique_id')"
   ]
  },
  {
   "cell_type": "code",
   "execution_count": null,
   "metadata": {},
   "outputs": [],
   "source": [
    "final_table = final_table[['customer_unique_id', \"recency_score\", \"frequency_score\",\"monetary_score\"]]"
   ]
  },
  {
   "cell_type": "code",
   "execution_count": null,
   "metadata": {},
   "outputs": [],
   "source": [
    "final_table['frequency_monetary_score'] = scoring(final_table['frequency_score'] + final_table['monetary_score'])"
   ]
  },
  {
   "cell_type": "code",
   "execution_count": null,
   "metadata": {},
   "outputs": [],
   "source": [
    "final_table = final_table[['customer_unique_id', 'recency_score', 'frequency_monetary_score']]"
   ]
  },
  {
   "cell_type": "code",
   "execution_count": 51,
   "metadata": {},
   "outputs": [],
   "source": [
    "segment_dict = {# hibernating\n",
    "(1,1):\"hibernating\",\n",
    "(1,2):\"hibernating\",\n",
    "(2,1):\"hibernating\",\n",
    "(2,2):\"hibernating\",\n",
    "# about to sleep\n",
    "(3,1):\"about to sleep\",\n",
    "(3,2):\"about to sleep\",\n",
    "# promising\n",
    "(4,1):\"promising\",\n",
    "# new customer\n",
    "(5,1):\"new customer\",\n",
    "# potential customers\n",
    "(4,2):\"potential\",\n",
    "(4,3):\"potential\",\n",
    "(5,2):\"potential\",\n",
    "(5,3):\"potential\",\n",
    "# need attion\n",
    "(3,3):\"need attion\",\n",
    "# at risk\n",
    "(1,3):\"at risk\",\n",
    "(1,4):\"at risk\",\n",
    "(2,3):\"at risk\",\n",
    "(2,4):\"at risk\",\n",
    "# do not lose\n",
    "(1,5):\"do not lose\",\n",
    "(2,5):\"do not lose\",\n",
    "# loyal customer\n",
    "(3,4):\"loyal\",\n",
    "(3,5):\"loyal\",\n",
    "(4,4):\"loyal\",\n",
    "(4,5):\"loyal\",\n",
    "# champions\n",
    "(5,4):\"champions\",\n",
    "(5,5):\"champions\"}"
   ]
  },
  {
   "cell_type": "code",
   "execution_count": 53,
   "metadata": {},
   "outputs": [
    {
     "name": "stderr",
     "output_type": "stream",
     "text": [
      "C:\\Users\\Admin\\AppData\\Local\\Temp\\ipykernel_19196\\1553612272.py:1: SettingWithCopyWarning: \n",
      "A value is trying to be set on a copy of a slice from a DataFrame.\n",
      "Try using .loc[row_indexer,col_indexer] = value instead\n",
      "\n",
      "See the caveats in the documentation: https://pandas.pydata.org/pandas-docs/stable/user_guide/indexing.html#returning-a-view-versus-a-copy\n",
      "  final_table['segment'] = final_table.apply(lambda x:\n"
     ]
    }
   ],
   "source": [
    "final_table['segment'] = final_table.apply(lambda x:\n",
    "                  segment_dict[(x['recency_score'],x['frequency_monetary_score'])]\n",
    "                  , axis = 1\n",
    "                  )"
   ]
  },
  {
   "cell_type": "code",
   "execution_count": 58,
   "metadata": {},
   "outputs": [],
   "source": [
    "final_data = final_table['segment'].value_counts()"
   ]
  },
  {
   "cell_type": "code",
   "execution_count": 59,
   "metadata": {},
   "outputs": [
    {
     "data": {
      "text/plain": [
       "<BarContainer object of 10 artists>"
      ]
     },
     "execution_count": 59,
     "metadata": {},
     "output_type": "execute_result"
    },
    {
     "data": {
      "image/png": "[encoded data removed]",
      "text/plain": [
       "<Figure size 640x480 with 1 Axes>"
      ]
     },
     "metadata": {},
     "output_type": "display_data"
    }
   ],
   "source": [
    "import matplotlib.pyplot as plt \n",
    "\n",
    "fig, ax = plt.subplots()\n",
    "ax.barh(\n",
    "    y =  final_data.index, \n",
    "    width =  final_data.values\n",
    ")"
   ]
  }
 ],
 "metadata": {
  "kernelspec": {
   "display_name": "Python 3",
   "language": "python",
   "name": "python3"
  },
  "language_info": {
   "codemirror_mode": {
    "name": "ipython",
    "version": 3
   },
   "file_extension": ".py",
   "mimetype": "text/x-python",
   "name": "python",
   "nbconvert_exporter": "python",
   "pygments_lexer": "ipython3",
   "version": "3.11.4"
  },
  "orig_nbformat": 4
 },
 "nbformat": 4,
 "nbformat_minor": 2
}
