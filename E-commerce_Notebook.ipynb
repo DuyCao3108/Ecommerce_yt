{
 "cells": [
  {
   "cell_type": "code",
   "execution_count": 1,
   "metadata": {},
   "outputs": [],
   "source": [
    "import pandas as pd\n",
    "import numpy as np\n",
    "import matplotlib.pyplot as plt\n",
    "import seaborn as sns"
   ]
  },
  {
   "cell_type": "code",
   "execution_count": 2,
   "metadata": {},
   "outputs": [],
   "source": [
    "customer = pd.read_csv(r'C:\\Users\\Admin\\Brazilian Ecommerce\\olist_customers_dataset.csv')\n",
    "geo = pd.read_csv(r'C:\\Users\\Admin\\Brazilian Ecommerce\\olist_geolocation_dataset.csv')\n",
    "item = pd.read_csv(r'C:\\Users\\Admin\\Brazilian Ecommerce\\olist_order_items_dataset.csv')\n",
    "payment = pd.read_csv(r'C:\\Users\\Admin\\Brazilian Ecommerce\\olist_order_payments_dataset.csv')\n",
    "review = pd.read_csv(r'C:\\Users\\Admin\\Brazilian Ecommerce\\olist_order_reviews_dataset.csv')\n",
    "order = pd.read_csv(r'C:\\Users\\Admin\\Brazilian Ecommerce\\olist_orders_dataset.csv')\n",
    "product_list = pd.read_csv(r'C:\\Users\\Admin\\Brazilian Ecommerce\\olist_products_dataset.csv')\n",
    "seller = pd.read_csv(r'C:\\Users\\Admin\\Brazilian Ecommerce\\olist_sellers_dataset.csv')\n",
    "product_category = pd.read_csv(r'C:\\Users\\Admin\\Brazilian Ecommerce\\product_category_name_translation.csv')\n",
    "MQL = pd.read_csv(r'C:\\Users\\Admin\\Brazilian Ecommerce\\olist_marketing_qualified_leads_dataset.csv')\n",
    "closed_deals = pd.read_csv(r'C:\\Users\\Admin\\Brazilian Ecommerce\\olist_closed_deals_dataset.csv')"
   ]
  },
  {
   "cell_type": "code",
   "execution_count": 3,
   "metadata": {},
   "outputs": [
    {
     "name": "stdout",
     "output_type": "stream",
     "text": [
      "['customer_id', 'customer_unique_id', 'customer_zip_code_prefix', 'customer_city', 'customer_state'] 5\n",
      "['geolocation_zip_code_prefix', 'geolocation_lat', 'geolocation_lng', 'geolocation_city', 'geolocation_state'] 5\n",
      "['order_id', 'order_item_id', 'product_id', 'seller_id', 'shipping_limit_date', 'price', 'freight_value'] 7\n",
      "['order_id', 'payment_sequential', 'payment_type', 'payment_installments', 'payment_value'] 5\n",
      "['review_id', 'order_id', 'review_score', 'review_comment_title', 'review_comment_message', 'review_creation_date', 'review_answer_timestamp'] 7\n",
      "['order_id', 'customer_id', 'order_status', 'order_purchase_timestamp', 'order_approved_at', 'order_delivered_carrier_date', 'order_delivered_customer_date', 'order_estimated_delivery_date'] 8\n",
      "['product_id', 'product_category_name', 'product_name_lenght', 'product_description_lenght', 'product_photos_qty', 'product_weight_g', 'product_length_cm', 'product_height_cm', 'product_width_cm'] 9\n",
      "['seller_id', 'seller_zip_code_prefix', 'seller_city', 'seller_state'] 4\n",
      "['product_category_name', 'product_category_name_english'] 2\n",
      "['mql_id', 'seller_id', 'sdr_id', 'sr_id', 'won_date', 'business_segment', 'lead_type', 'lead_behaviour_profile', 'has_company', 'has_gtin', 'average_stock', 'business_type', 'declared_product_catalog_size', 'declared_monthly_revenue'] 14\n",
      "['mql_id', 'first_contact_date', 'landing_page_id', 'origin'] 4\n"
     ]
    }
   ],
   "source": [
    "list_of_df = [customer,\n",
    "              geo,\n",
    "              item,\n",
    "              payment,\n",
    "              review,\n",
    "              order,\n",
    "              product_list,\n",
    "              seller,\n",
    "              product_category,\n",
    "              closed_deals,\n",
    "              MQL]\n",
    "\n",
    "for df in list_of_df:\n",
    "    print(list(df.columns), len(df.columns))"
   ]
  },
  {
   "cell_type": "markdown",
   "metadata": {},
   "source": [
    "# 1. RFM ANALYSIS"
   ]
  },
  {
   "cell_type": "markdown",
   "metadata": {},
   "source": [
    "## 1.1. RECENCY"
   ]
  },
  {
   "cell_type": "code",
   "execution_count": 6,
   "metadata": {},
   "outputs": [
    {
     "data": {
      "text/html": [
       "<div>\n",
       "<style scoped>\n",
       "    .dataframe tbody tr th:only-of-type {\n",
       "        vertical-align: middle;\n",
       "    }\n",
       "\n",
       "    .dataframe tbody tr th {\n",
       "        vertical-align: top;\n",
       "    }\n",
       "\n",
       "    .dataframe thead th {\n",
       "        text-align: right;\n",
       "    }\n",
       "</style>\n",
       "<table border=\"1\" class=\"dataframe\">\n",
       "  <thead>\n",
       "    <tr style=\"text-align: right;\">\n",
       "      <th></th>\n",
       "      <th>customer_unique_id</th>\n",
       "      <th>order_purchase_timestamp</th>\n",
       "      <th>days_between</th>\n",
       "      <th>recency_score</th>\n",
       "    </tr>\n",
       "  </thead>\n",
       "  <tbody>\n",
       "    <tr>\n",
       "      <th>0</th>\n",
       "      <td>0000366f3b9a7992bf8c76cfdf3221e2</td>\n",
       "      <td>2018-05-10 10:56:27</td>\n",
       "      <td>160</td>\n",
       "      <td>2</td>\n",
       "    </tr>\n",
       "    <tr>\n",
       "      <th>1</th>\n",
       "      <td>0000b849f77a49e4a4ce2b2a4ca5be3f</td>\n",
       "      <td>2018-05-07 11:11:27</td>\n",
       "      <td>163</td>\n",
       "      <td>2</td>\n",
       "    </tr>\n",
       "    <tr>\n",
       "      <th>2</th>\n",
       "      <td>0000f46a3911fa3c0805444483337064</td>\n",
       "      <td>2017-03-10 21:05:03</td>\n",
       "      <td>585</td>\n",
       "      <td>5</td>\n",
       "    </tr>\n",
       "    <tr>\n",
       "      <th>3</th>\n",
       "      <td>0000f6ccb0745a6a4b88665a16c9f078</td>\n",
       "      <td>2017-10-12 20:29:41</td>\n",
       "      <td>369</td>\n",
       "      <td>4</td>\n",
       "    </tr>\n",
       "    <tr>\n",
       "      <th>4</th>\n",
       "      <td>0004aac84e0df4da2b147fca70cf8255</td>\n",
       "      <td>2017-11-14 19:45:42</td>\n",
       "      <td>336</td>\n",
       "      <td>4</td>\n",
       "    </tr>\n",
       "    <tr>\n",
       "      <th>...</th>\n",
       "      <td>...</td>\n",
       "      <td>...</td>\n",
       "      <td>...</td>\n",
       "      <td>...</td>\n",
       "    </tr>\n",
       "    <tr>\n",
       "      <th>96091</th>\n",
       "      <td>fffcf5a5ff07b0908bd4e2dbc735a684</td>\n",
       "      <td>2017-06-08 21:00:36</td>\n",
       "      <td>495</td>\n",
       "      <td>5</td>\n",
       "    </tr>\n",
       "    <tr>\n",
       "      <th>96092</th>\n",
       "      <td>fffea47cd6d3cc0a88bd621562a9d061</td>\n",
       "      <td>2017-12-10 20:07:56</td>\n",
       "      <td>310</td>\n",
       "      <td>3</td>\n",
       "    </tr>\n",
       "    <tr>\n",
       "      <th>96093</th>\n",
       "      <td>ffff371b4d645b6ecea244b27531430a</td>\n",
       "      <td>2017-02-07 15:49:16</td>\n",
       "      <td>617</td>\n",
       "      <td>5</td>\n",
       "    </tr>\n",
       "    <tr>\n",
       "      <th>96094</th>\n",
       "      <td>ffff5962728ec6157033ef9805bacc48</td>\n",
       "      <td>2018-05-02 15:17:41</td>\n",
       "      <td>168</td>\n",
       "      <td>2</td>\n",
       "    </tr>\n",
       "    <tr>\n",
       "      <th>96095</th>\n",
       "      <td>ffffd2657e2aad2907e67c3e9daecbeb</td>\n",
       "      <td>2017-05-02 20:18:45</td>\n",
       "      <td>532</td>\n",
       "      <td>5</td>\n",
       "    </tr>\n",
       "  </tbody>\n",
       "</table>\n",
       "<p>96096 rows × 4 columns</p>\n",
       "</div>"
      ],
      "text/plain": [
       "                     customer_unique_id order_purchase_timestamp  \\\n",
       "0      0000366f3b9a7992bf8c76cfdf3221e2      2018-05-10 10:56:27   \n",
       "1      0000b849f77a49e4a4ce2b2a4ca5be3f      2018-05-07 11:11:27   \n",
       "2      0000f46a3911fa3c0805444483337064      2017-03-10 21:05:03   \n",
       "3      0000f6ccb0745a6a4b88665a16c9f078      2017-10-12 20:29:41   \n",
       "4      0004aac84e0df4da2b147fca70cf8255      2017-11-14 19:45:42   \n",
       "...                                 ...                      ...   \n",
       "96091  fffcf5a5ff07b0908bd4e2dbc735a684      2017-06-08 21:00:36   \n",
       "96092  fffea47cd6d3cc0a88bd621562a9d061      2017-12-10 20:07:56   \n",
       "96093  ffff371b4d645b6ecea244b27531430a      2017-02-07 15:49:16   \n",
       "96094  ffff5962728ec6157033ef9805bacc48      2018-05-02 15:17:41   \n",
       "96095  ffffd2657e2aad2907e67c3e9daecbeb      2017-05-02 20:18:45   \n",
       "\n",
       "       days_between  recency_score  \n",
       "0               160              2  \n",
       "1               163              2  \n",
       "2               585              5  \n",
       "3               369              4  \n",
       "4               336              4  \n",
       "...             ...            ...  \n",
       "96091           495              5  \n",
       "96092           310              3  \n",
       "96093           617              5  \n",
       "96094           168              2  \n",
       "96095           532              5  \n",
       "\n",
       "[96096 rows x 4 columns]"
      ]
     },
     "execution_count": 6,
     "metadata": {},
     "output_type": "execute_result"
    }
   ],
   "source": [
    "# getting the latest day of purchase for each user\n",
    "recency_table = customer.merge(order, on =\"customer_id\")\n",
    "recency_table = recency_table.groupby('customer_unique_id').agg({'order_purchase_timestamp': 'max'}).reset_index()\n",
    "# convert to datetime dtype\n",
    "recency_table['order_purchase_timestamp'] = pd.to_datetime(recency_table['order_purchase_timestamp'])\n",
    "# calculate the current day \n",
    "current_day = pd.to_datetime(max(order['order_purchase_timestamp']))\n",
    "# calculate the days between\n",
    "recency_table['days_between'] = (current_day - recency_table['order_purchase_timestamp']).apply(lambda x: int(str(x).split()[0]))\n",
    "# def function that scores the data\n",
    "def scoring(x):\n",
    "    # calculate quantiles\n",
    "    quan_val_list = []\n",
    "    for quan in [0.2,0.4,0.6,0.8]:\n",
    "        quan_val_list.append(np.quantile(x,quan))\n",
    "    # label the data base on the quantile value\n",
    "    def labeling(x):\n",
    "        if x < quan_val_list[0]: return 1\n",
    "        elif x < quan_val_list[1]: return 2\n",
    "        elif x < quan_val_list[2]: return 3\n",
    "        elif x < quan_val_list[3]: return 4\n",
    "        else: return 5\n",
    "\n",
    "    return x.apply(labeling)\n",
    "\n",
    "recency_table['recency_score'] = scoring(recency_table['days_between'])\n",
    "recency_table"
   ]
  },
  {
   "cell_type": "markdown",
   "metadata": {},
   "source": [
    "## 1.2. FREQUENCY"
   ]
  },
  {
   "cell_type": "code",
   "execution_count": 5,
   "metadata": {},
   "outputs": [],
   "source": [
    "# merging df\n",
    "frequency_table = customer.merge(order, on=\"customer_id\")\n",
    "# getting interested information\n",
    "frequency_table = frequency_table.groupby('customer_unique_id').agg({\n",
    "    \"order_purchase_timestamp\": ['min', 'max'],\n",
    "    \"order_id\": 'count'\n",
    "}).reset_index()\n",
    "# change columns\n",
    "frequency_table.columns = ['customer_unique_id', 'min', 'max', 'count']\n",
    "# change data type\n",
    "frequency_table['max'] = pd.to_datetime(frequency_table['max'])\n",
    "frequency_table['min'] = pd.to_datetime(frequency_table['min'])\n",
    "# days between first and last day of purchase \n",
    "frequency_table['days_between'] = (frequency_table['max'] - frequency_table['min']).apply(lambda x: int(str(x).split()[0]))\n",
    "frequency_table['days_between'].value_counts()\n",
    "# get rid of one-time-purchase customer\n",
    "frequency_table = frequency_table[frequency_table['days_between']>0]\n",
    "# calculate purchase_rate\n",
    "frequency_table['purchase_rate'] = frequency_table['count'] / frequency_table['days_between']\n",
    "# score the purchase_rate\n",
    "frequency_table['frequency_score'] = scoring(frequency_table['purchase_rate'])"
   ]
  },
  {
   "cell_type": "markdown",
   "metadata": {},
   "source": [
    "## 1.3. MONETARY"
   ]
  },
  {
   "cell_type": "code",
   "execution_count": 6,
   "metadata": {},
   "outputs": [
    {
     "data": {
      "text/html": [
       "<div>\n",
       "<style scoped>\n",
       "    .dataframe tbody tr th:only-of-type {\n",
       "        vertical-align: middle;\n",
       "    }\n",
       "\n",
       "    .dataframe tbody tr th {\n",
       "        vertical-align: top;\n",
       "    }\n",
       "\n",
       "    .dataframe thead th {\n",
       "        text-align: right;\n",
       "    }\n",
       "</style>\n",
       "<table border=\"1\" class=\"dataframe\">\n",
       "  <thead>\n",
       "    <tr style=\"text-align: right;\">\n",
       "      <th></th>\n",
       "      <th>customer_unique_id</th>\n",
       "      <th>payment_value</th>\n",
       "      <th>monetary_score</th>\n",
       "    </tr>\n",
       "  </thead>\n",
       "  <tbody>\n",
       "    <tr>\n",
       "      <th>0</th>\n",
       "      <td>0000366f3b9a7992bf8c76cfdf3221e2</td>\n",
       "      <td>141.90</td>\n",
       "      <td>4</td>\n",
       "    </tr>\n",
       "    <tr>\n",
       "      <th>1</th>\n",
       "      <td>0000b849f77a49e4a4ce2b2a4ca5be3f</td>\n",
       "      <td>27.19</td>\n",
       "      <td>1</td>\n",
       "    </tr>\n",
       "    <tr>\n",
       "      <th>2</th>\n",
       "      <td>0000f46a3911fa3c0805444483337064</td>\n",
       "      <td>86.22</td>\n",
       "      <td>2</td>\n",
       "    </tr>\n",
       "    <tr>\n",
       "      <th>3</th>\n",
       "      <td>0000f6ccb0745a6a4b88665a16c9f078</td>\n",
       "      <td>43.62</td>\n",
       "      <td>1</td>\n",
       "    </tr>\n",
       "    <tr>\n",
       "      <th>4</th>\n",
       "      <td>0004aac84e0df4da2b147fca70cf8255</td>\n",
       "      <td>196.89</td>\n",
       "      <td>4</td>\n",
       "    </tr>\n",
       "    <tr>\n",
       "      <th>...</th>\n",
       "      <td>...</td>\n",
       "      <td>...</td>\n",
       "      <td>...</td>\n",
       "    </tr>\n",
       "    <tr>\n",
       "      <th>96090</th>\n",
       "      <td>fffcf5a5ff07b0908bd4e2dbc735a684</td>\n",
       "      <td>2067.42</td>\n",
       "      <td>5</td>\n",
       "    </tr>\n",
       "    <tr>\n",
       "      <th>96091</th>\n",
       "      <td>fffea47cd6d3cc0a88bd621562a9d061</td>\n",
       "      <td>84.58</td>\n",
       "      <td>2</td>\n",
       "    </tr>\n",
       "    <tr>\n",
       "      <th>96092</th>\n",
       "      <td>ffff371b4d645b6ecea244b27531430a</td>\n",
       "      <td>112.46</td>\n",
       "      <td>3</td>\n",
       "    </tr>\n",
       "    <tr>\n",
       "      <th>96093</th>\n",
       "      <td>ffff5962728ec6157033ef9805bacc48</td>\n",
       "      <td>133.69</td>\n",
       "      <td>4</td>\n",
       "    </tr>\n",
       "    <tr>\n",
       "      <th>96094</th>\n",
       "      <td>ffffd2657e2aad2907e67c3e9daecbeb</td>\n",
       "      <td>71.56</td>\n",
       "      <td>2</td>\n",
       "    </tr>\n",
       "  </tbody>\n",
       "</table>\n",
       "<p>96095 rows × 3 columns</p>\n",
       "</div>"
      ],
      "text/plain": [
       "                     customer_unique_id  payment_value  monetary_score\n",
       "0      0000366f3b9a7992bf8c76cfdf3221e2         141.90               4\n",
       "1      0000b849f77a49e4a4ce2b2a4ca5be3f          27.19               1\n",
       "2      0000f46a3911fa3c0805444483337064          86.22               2\n",
       "3      0000f6ccb0745a6a4b88665a16c9f078          43.62               1\n",
       "4      0004aac84e0df4da2b147fca70cf8255         196.89               4\n",
       "...                                 ...            ...             ...\n",
       "96090  fffcf5a5ff07b0908bd4e2dbc735a684        2067.42               5\n",
       "96091  fffea47cd6d3cc0a88bd621562a9d061          84.58               2\n",
       "96092  ffff371b4d645b6ecea244b27531430a         112.46               3\n",
       "96093  ffff5962728ec6157033ef9805bacc48         133.69               4\n",
       "96094  ffffd2657e2aad2907e67c3e9daecbeb          71.56               2\n",
       "\n",
       "[96095 rows x 3 columns]"
      ]
     },
     "execution_count": 6,
     "metadata": {},
     "output_type": "execute_result"
    }
   ],
   "source": [
    "monetary_table = payment.merge(order, on=\"order_id\").merge(customer, on=\"customer_id\")\n",
    "monetary_table = monetary_table.groupby('customer_unique_id').agg({'payment_value':'sum'}).reset_index()\n",
    "monetary_table['monetary_score'] = scoring(monetary_table['payment_value'])\n",
    "monetary_table"
   ]
  },
  {
   "cell_type": "markdown",
   "metadata": {},
   "source": [
    "## 1.4 COMBINE ALL TOGETHER"
   ]
  },
  {
   "cell_type": "code",
   "execution_count": 22,
   "metadata": {},
   "outputs": [],
   "source": [
    "final_table = recency_table.merge(monetary_table, on = 'customer_unique_id').merge(frequency_table, on='customer_unique_id')\n",
    "final_table = final_table[['customer_unique_id', \"recency_score\", \"frequency_score\",\"monetary_score\"]]\n",
    "final_table['frequency_monetary_score'] = scoring(final_table['frequency_score'] + final_table['monetary_score'])\n",
    "final_table = final_table[['customer_unique_id', 'recency_score', 'frequency_monetary_score']]\n",
    "\n",
    "segment_dict = {# hibernating\n",
    "(1,1):\"hibernating\",\n",
    "(1,2):\"hibernating\",\n",
    "(2,1):\"hibernating\",\n",
    "(2,2):\"hibernating\",\n",
    "# about to sleep\n",
    "(3,1):\"about to sleep\",\n",
    "(3,2):\"about to sleep\",\n",
    "# promising\n",
    "(4,1):\"promising\",\n",
    "# new customer\n",
    "(5,1):\"new customer\",\n",
    "# potential customers\n",
    "(4,2):\"potential\",\n",
    "(4,3):\"potential\",\n",
    "(5,2):\"potential\",\n",
    "(5,3):\"potential\",\n",
    "# need attion\n",
    "(3,3):\"need attion\",\n",
    "# at risk\n",
    "(1,3):\"at risk\",\n",
    "(1,4):\"at risk\",\n",
    "(2,3):\"at risk\",\n",
    "(2,4):\"at risk\",\n",
    "# do not lose\n",
    "(1,5):\"do not lose\",\n",
    "(2,5):\"do not lose\",\n",
    "# loyal customer\n",
    "(3,4):\"loyal\",\n",
    "(3,5):\"loyal\",\n",
    "(4,4):\"loyal\",\n",
    "(4,5):\"loyal\",\n",
    "# champions\n",
    "(5,4):\"champions\",\n",
    "(5,5):\"champions\"}\n",
    "\n",
    "final_table['segment'] = final_table.apply(lambda x:\n",
    "                  segment_dict[(x['recency_score'],x['frequency_monetary_score'])]\n",
    "                  , axis = 1\n",
    "                  )"
   ]
  },
  {
   "cell_type": "code",
   "execution_count": 23,
   "metadata": {},
   "outputs": [],
   "source": [
    "final_data = final_table['segment'].value_counts()"
   ]
  },
  {
   "cell_type": "code",
   "execution_count": 24,
   "metadata": {},
   "outputs": [
    {
     "data": {
      "text/plain": [
       "<BarContainer object of 10 artists>"
      ]
     },
     "execution_count": 24,
     "metadata": {},
     "output_type": "execute_result"
    },
    {
     "data": {
      "image/png": "[encoded data removed]",
      "text/plain": [
       "<Figure size 640x480 with 1 Axes>"
      ]
     },
     "metadata": {},
     "output_type": "display_data"
    }
   ],
   "source": [
    "import matplotlib.pyplot as plt \n",
    "\n",
    "fig, ax = plt.subplots()\n",
    "ax.barh(\n",
    "    y =  final_data.index, \n",
    "    width =  final_data.values\n",
    ")"
   ]
  },
  {
   "cell_type": "markdown",
   "metadata": {},
   "source": [
    "# PRODUCTS THAT ARE FREQUENTLY BOUGHT TOGETHER"
   ]
  },
  {
   "cell_type": "code",
   "execution_count": 15,
   "metadata": {},
   "outputs": [],
   "source": [
    "product_frequency_table = order.merge(item, on=\"order_id\")[['order_id','product_id']]"
   ]
  },
  {
   "cell_type": "code",
   "execution_count": 16,
   "metadata": {},
   "outputs": [],
   "source": [
    "list_of_item_list = []\n",
    "for order, remaining_df in product_frequency_table.groupby('order_id'):\n",
    "    list_of_item_list.append(list(remaining_df.drop_duplicates(subset='product_id')['product_id'].values))\n",
    "list_of_item_list = [list_of_item for list_of_item in list_of_item_list if len(list_of_item) > 1]"
   ]
  },
  {
   "cell_type": "code",
   "execution_count": 17,
   "metadata": {},
   "outputs": [
    {
     "data": {
      "text/html": [
       "<div>\n",
       "<style scoped>\n",
       "    .dataframe tbody tr th:only-of-type {\n",
       "        vertical-align: middle;\n",
       "    }\n",
       "\n",
       "    .dataframe tbody tr th {\n",
       "        vertical-align: top;\n",
       "    }\n",
       "\n",
       "    .dataframe thead th {\n",
       "        text-align: right;\n",
       "    }\n",
       "</style>\n",
       "<table border=\"1\" class=\"dataframe\">\n",
       "  <thead>\n",
       "    <tr style=\"text-align: right;\">\n",
       "      <th></th>\n",
       "      <th>item_1</th>\n",
       "      <th>item_2</th>\n",
       "      <th>count</th>\n",
       "    </tr>\n",
       "  </thead>\n",
       "  <tbody>\n",
       "    <tr>\n",
       "      <th>110</th>\n",
       "      <td>e53e557d5a159f5aa2c5e995dfdf244b</td>\n",
       "      <td>36f60d45225e60c7da4558b070ce4b60</td>\n",
       "      <td>20</td>\n",
       "    </tr>\n",
       "    <tr>\n",
       "      <th>740</th>\n",
       "      <td>35afc973633aaeb6b877ff57b2793310</td>\n",
       "      <td>99a4788cb24856965c36a24e339b6058</td>\n",
       "      <td>15</td>\n",
       "    </tr>\n",
       "    <tr>\n",
       "      <th>200</th>\n",
       "      <td>36f60d45225e60c7da4558b070ce4b60</td>\n",
       "      <td>e53e557d5a159f5aa2c5e995dfdf244b</td>\n",
       "      <td>14</td>\n",
       "    </tr>\n",
       "    <tr>\n",
       "      <th>1552</th>\n",
       "      <td>99a4788cb24856965c36a24e339b6058</td>\n",
       "      <td>35afc973633aaeb6b877ff57b2793310</td>\n",
       "      <td>14</td>\n",
       "    </tr>\n",
       "    <tr>\n",
       "      <th>443</th>\n",
       "      <td>f4f67ccaece962d013a4e1d7dc3a61f7</td>\n",
       "      <td>4fcb3d9a5f4871e8362dfedbdb02b064</td>\n",
       "      <td>11</td>\n",
       "    </tr>\n",
       "    <tr>\n",
       "      <th>278</th>\n",
       "      <td>422879e10f46682990de24d770e7f83d</td>\n",
       "      <td>389d119b48cf3043d311335e499d9c6b</td>\n",
       "      <td>9</td>\n",
       "    </tr>\n",
       "    <tr>\n",
       "      <th>1010</th>\n",
       "      <td>3f14d740544f37ece8a9e7bc8349797e</td>\n",
       "      <td>36f60d45225e60c7da4558b070ce4b60</td>\n",
       "      <td>8</td>\n",
       "    </tr>\n",
       "    <tr>\n",
       "      <th>114</th>\n",
       "      <td>4fcb3d9a5f4871e8362dfedbdb02b064</td>\n",
       "      <td>f4f67ccaece962d013a4e1d7dc3a61f7</td>\n",
       "      <td>6</td>\n",
       "    </tr>\n",
       "    <tr>\n",
       "      <th>1021</th>\n",
       "      <td>422879e10f46682990de24d770e7f83d</td>\n",
       "      <td>53759a2ecddad2bb87a079a1f1519f73</td>\n",
       "      <td>5</td>\n",
       "    </tr>\n",
       "    <tr>\n",
       "      <th>1018</th>\n",
       "      <td>389d119b48cf3043d311335e499d9c6b</td>\n",
       "      <td>53759a2ecddad2bb87a079a1f1519f73</td>\n",
       "      <td>5</td>\n",
       "    </tr>\n",
       "  </tbody>\n",
       "</table>\n",
       "</div>"
      ],
      "text/plain": [
       "                                item_1                            item_2  \\\n",
       "110   e53e557d5a159f5aa2c5e995dfdf244b  36f60d45225e60c7da4558b070ce4b60   \n",
       "740   35afc973633aaeb6b877ff57b2793310  99a4788cb24856965c36a24e339b6058   \n",
       "200   36f60d45225e60c7da4558b070ce4b60  e53e557d5a159f5aa2c5e995dfdf244b   \n",
       "1552  99a4788cb24856965c36a24e339b6058  35afc973633aaeb6b877ff57b2793310   \n",
       "443   f4f67ccaece962d013a4e1d7dc3a61f7  4fcb3d9a5f4871e8362dfedbdb02b064   \n",
       "278   422879e10f46682990de24d770e7f83d  389d119b48cf3043d311335e499d9c6b   \n",
       "1010  3f14d740544f37ece8a9e7bc8349797e  36f60d45225e60c7da4558b070ce4b60   \n",
       "114   4fcb3d9a5f4871e8362dfedbdb02b064  f4f67ccaece962d013a4e1d7dc3a61f7   \n",
       "1021  422879e10f46682990de24d770e7f83d  53759a2ecddad2bb87a079a1f1519f73   \n",
       "1018  389d119b48cf3043d311335e499d9c6b  53759a2ecddad2bb87a079a1f1519f73   \n",
       "\n",
       "      count  \n",
       "110      20  \n",
       "740      15  \n",
       "200      14  \n",
       "1552     14  \n",
       "443      11  \n",
       "278       9  \n",
       "1010      8  \n",
       "114       6  \n",
       "1021      5  \n",
       "1018      5  "
      ]
     },
     "execution_count": 17,
     "metadata": {},
     "output_type": "execute_result"
    }
   ],
   "source": [
    "from itertools import combinations\n",
    "\n",
    "com_dict = {}\n",
    "for list_of_item in list_of_item_list:\n",
    "    for com in combinations(list_of_item,2):\n",
    "        if com in com_dict: com_dict[com] +=1\n",
    "        else: com_dict[com] = 1\n",
    "\n",
    "res_df = pd.DataFrame(pd.Series(com_dict)).reset_index().rename(columns={'level_0':'item_1', \"level_1\": \"item_2\", 0: \"count\"}).sort_values('count',ascending=False)\n",
    "top10 = res_df[:10]\n",
    "top10"
   ]
  },
  {
   "cell_type": "markdown",
   "metadata": {},
   "source": [
    "## From which channels did the leads come from? (percentage)"
   ]
  },
  {
   "cell_type": "code",
   "execution_count": 18,
   "metadata": {},
   "outputs": [
    {
     "data": {
      "text/plain": [
       "origin\n",
       "organic_search       2296\n",
       "paid_search          1586\n",
       "social               1350\n",
       "unknown              1099\n",
       "direct_traffic        499\n",
       "email                 493\n",
       "referral              284\n",
       "other                 150\n",
       "display               118\n",
       "other_publicities      65\n",
       "Name: count, dtype: int64"
      ]
     },
     "execution_count": 18,
     "metadata": {},
     "output_type": "execute_result"
    }
   ],
   "source": [
    "data = MQL['origin'].value_counts()\n",
    "data"
   ]
  },
  {
   "cell_type": "code",
   "execution_count": 19,
   "metadata": {},
   "outputs": [
    {
     "data": {
      "text/plain": [
       "Text(0.5, 1.0, 'CHANNEL DISTRIBUTION')"
      ]
     },
     "execution_count": 19,
     "metadata": {},
     "output_type": "execute_result"
    },
    {
     "data": {
      "image/png": "[encoded data removed]",
      "text/plain": [
       "<Figure size 640x480 with 1 Axes>"
      ]
     },
     "metadata": {},
     "output_type": "display_data"
    }
   ],
   "source": [
    "fig, ax = plt.subplots()\n",
    "ax.barh(\n",
    "    y = data.index,\n",
    "    width = data.values\n",
    ")\n",
    "\n",
    "for index, value in data.items():\n",
    "    ax.annotate(\n",
    "        text = value,\n",
    "        xy = (value, index),\n",
    "        va = 'center'\n",
    "    )\n",
    "\n",
    "for spine in ['top', 'right', 'bottom']:\n",
    "    ax.spines[spine].set_visible(False)\n",
    "\n",
    "ax.set_xticklabels([])\n",
    "ax.set_xticks([])\n",
    "ax.set_title(\"CHANNEL DISTRIBUTION\")"
   ]
  },
  {
   "cell_type": "code",
   "execution_count": 20,
   "metadata": {},
   "outputs": [
    {
     "data": {
      "text/html": [
       "<div>\n",
       "<style scoped>\n",
       "    .dataframe tbody tr th:only-of-type {\n",
       "        vertical-align: middle;\n",
       "    }\n",
       "\n",
       "    .dataframe tbody tr th {\n",
       "        vertical-align: top;\n",
       "    }\n",
       "\n",
       "    .dataframe thead th {\n",
       "        text-align: right;\n",
       "    }\n",
       "</style>\n",
       "<table border=\"1\" class=\"dataframe\">\n",
       "  <thead>\n",
       "    <tr style=\"text-align: right;\">\n",
       "      <th></th>\n",
       "      <th>origin</th>\n",
       "      <th>mql_id</th>\n",
       "      <th>percentage</th>\n",
       "    </tr>\n",
       "  </thead>\n",
       "  <tbody>\n",
       "    <tr>\n",
       "      <th>3</th>\n",
       "      <td>organic_search</td>\n",
       "      <td>2296</td>\n",
       "      <td>28.91 %</td>\n",
       "    </tr>\n",
       "    <tr>\n",
       "      <th>6</th>\n",
       "      <td>paid_search</td>\n",
       "      <td>1586</td>\n",
       "      <td>19.97 %</td>\n",
       "    </tr>\n",
       "    <tr>\n",
       "      <th>8</th>\n",
       "      <td>social</td>\n",
       "      <td>1350</td>\n",
       "      <td>17.00 %</td>\n",
       "    </tr>\n",
       "    <tr>\n",
       "      <th>9</th>\n",
       "      <td>unknown</td>\n",
       "      <td>1099</td>\n",
       "      <td>13.84 %</td>\n",
       "    </tr>\n",
       "    <tr>\n",
       "      <th>0</th>\n",
       "      <td>direct_traffic</td>\n",
       "      <td>499</td>\n",
       "      <td>6.284 %</td>\n",
       "    </tr>\n",
       "    <tr>\n",
       "      <th>2</th>\n",
       "      <td>email</td>\n",
       "      <td>493</td>\n",
       "      <td>6.209 %</td>\n",
       "    </tr>\n",
       "    <tr>\n",
       "      <th>7</th>\n",
       "      <td>referral</td>\n",
       "      <td>284</td>\n",
       "      <td>3.576 %</td>\n",
       "    </tr>\n",
       "    <tr>\n",
       "      <th>4</th>\n",
       "      <td>other</td>\n",
       "      <td>150</td>\n",
       "      <td>1.889 %</td>\n",
       "    </tr>\n",
       "    <tr>\n",
       "      <th>1</th>\n",
       "      <td>display</td>\n",
       "      <td>118</td>\n",
       "      <td>1.486 %</td>\n",
       "    </tr>\n",
       "    <tr>\n",
       "      <th>5</th>\n",
       "      <td>other_publicities</td>\n",
       "      <td>65</td>\n",
       "      <td>0.818 %</td>\n",
       "    </tr>\n",
       "  </tbody>\n",
       "</table>\n",
       "</div>"
      ],
      "text/plain": [
       "              origin  mql_id percentage\n",
       "3     organic_search    2296    28.91 %\n",
       "6        paid_search    1586    19.97 %\n",
       "8             social    1350    17.00 %\n",
       "9            unknown    1099    13.84 %\n",
       "0     direct_traffic     499    6.284 %\n",
       "2              email     493    6.209 %\n",
       "7           referral     284    3.576 %\n",
       "4              other     150    1.889 %\n",
       "1            display     118    1.486 %\n",
       "5  other_publicities      65    0.818 %"
      ]
     },
     "execution_count": 20,
     "metadata": {},
     "output_type": "execute_result"
    }
   ],
   "source": [
    "data = MQL.groupby('origin').agg({'mql_id': \"count\"}).reset_index().sort_values('mql_id',ascending=False)\n",
    "data['percentage'] = data['mql_id'].apply(lambda x:\n",
    "                     str(x/sum(data['mql_id']) * 100)[:5] + \" %\"\n",
    "                     )\n",
    "data"
   ]
  },
  {
   "cell_type": "markdown",
   "metadata": {},
   "source": [
    "## Find the products that usually appear in the positvely reviewed / negatively reviewed order\n"
   ]
  },
  {
   "cell_type": "code",
   "execution_count": 21,
   "metadata": {},
   "outputs": [
    {
     "ename": "TypeError",
     "evalue": "Can only merge Series or DataFrame objects, a <class 'str'> was passed",
     "output_type": "error",
     "traceback": [
      "\u001b[1;31m---------------------------------------------------------------------------\u001b[0m",
      "\u001b[1;31mTypeError\u001b[0m                                 Traceback (most recent call last)",
      "\u001b[1;32mc:\\Users\\Admin\\Brazilian Ecommerce\\E-commerce_pt1_yt.ipynb Cell 29\u001b[0m line \u001b[0;36m2\n\u001b[0;32m      <a href='vscode-notebook-cell:/c%3A/Users/Admin/Brazilian%20Ecommerce/E-commerce_pt1_yt.ipynb#X40sZmlsZQ%3D%3D?line=0'>1</a>\u001b[0m \u001b[39m# merge 3 df\u001b[39;00m\n\u001b[1;32m----> <a href='vscode-notebook-cell:/c%3A/Users/Admin/Brazilian%20Ecommerce/E-commerce_pt1_yt.ipynb#X40sZmlsZQ%3D%3D?line=1'>2</a>\u001b[0m satis_table \u001b[39m=\u001b[39m review\u001b[39m.\u001b[39;49mmerge(order, on \u001b[39m=\u001b[39;49m \u001b[39m'\u001b[39;49m\u001b[39morder_id\u001b[39;49m\u001b[39m'\u001b[39;49m)\u001b[39m.\u001b[39mmerge(item, on \u001b[39m=\u001b[39m\u001b[39m'\u001b[39m\u001b[39morder_id\u001b[39m\u001b[39m'\u001b[39m)\n\u001b[0;32m      <a href='vscode-notebook-cell:/c%3A/Users/Admin/Brazilian%20Ecommerce/E-commerce_pt1_yt.ipynb#X40sZmlsZQ%3D%3D?line=2'>3</a>\u001b[0m \u001b[39m# labeling customer review score\u001b[39;00m\n\u001b[0;32m      <a href='vscode-notebook-cell:/c%3A/Users/Admin/Brazilian%20Ecommerce/E-commerce_pt1_yt.ipynb#X40sZmlsZQ%3D%3D?line=3'>4</a>\u001b[0m satis_table[\u001b[39m'\u001b[39m\u001b[39msatisfaction\u001b[39m\u001b[39m'\u001b[39m] \u001b[39m=\u001b[39m satis_table[\u001b[39m'\u001b[39m\u001b[39mreview_score\u001b[39m\u001b[39m'\u001b[39m]\u001b[39m.\u001b[39mapply(\u001b[39mlambda\u001b[39;00m x:\n\u001b[0;32m      <a href='vscode-notebook-cell:/c%3A/Users/Admin/Brazilian%20Ecommerce/E-commerce_pt1_yt.ipynb#X40sZmlsZQ%3D%3D?line=4'>5</a>\u001b[0m                                   \u001b[39m\"\u001b[39m\u001b[39mnegative_order\u001b[39m\u001b[39m\"\u001b[39m \u001b[39mif\u001b[39;00m x \u001b[39m<\u001b[39m \u001b[39m3\u001b[39m\n\u001b[0;32m      <a href='vscode-notebook-cell:/c%3A/Users/Admin/Brazilian%20Ecommerce/E-commerce_pt1_yt.ipynb#X40sZmlsZQ%3D%3D?line=5'>6</a>\u001b[0m                                   \u001b[39melse\u001b[39;00m(\n\u001b[1;32m   (...)\u001b[0m\n\u001b[0;32m      <a href='vscode-notebook-cell:/c%3A/Users/Admin/Brazilian%20Ecommerce/E-commerce_pt1_yt.ipynb#X40sZmlsZQ%3D%3D?line=8'>9</a>\u001b[0m                                   )                           \n\u001b[0;32m     <a href='vscode-notebook-cell:/c%3A/Users/Admin/Brazilian%20Ecommerce/E-commerce_pt1_yt.ipynb#X40sZmlsZQ%3D%3D?line=9'>10</a>\u001b[0m                                   )\n",
      "File \u001b[1;32mc:\\Users\\Admin\\AppData\\Local\\Programs\\Python\\Python311\\Lib\\site-packages\\pandas\\core\\frame.py:10490\u001b[0m, in \u001b[0;36mDataFrame.merge\u001b[1;34m(self, right, how, on, left_on, right_on, left_index, right_index, sort, suffixes, copy, indicator, validate)\u001b[0m\n\u001b[0;32m  10471\u001b[0m \u001b[39m@Substitution\u001b[39m(\u001b[39m\"\u001b[39m\u001b[39m\"\u001b[39m)\n\u001b[0;32m  10472\u001b[0m \u001b[39m@Appender\u001b[39m(_merge_doc, indents\u001b[39m=\u001b[39m\u001b[39m2\u001b[39m)\n\u001b[0;32m  10473\u001b[0m \u001b[39mdef\u001b[39;00m \u001b[39mmerge\u001b[39m(\n\u001b[1;32m   (...)\u001b[0m\n\u001b[0;32m  10486\u001b[0m     validate: MergeValidate \u001b[39m|\u001b[39m \u001b[39mNone\u001b[39;00m \u001b[39m=\u001b[39m \u001b[39mNone\u001b[39;00m,\n\u001b[0;32m  10487\u001b[0m ) \u001b[39m-\u001b[39m\u001b[39m>\u001b[39m DataFrame:\n\u001b[0;32m  10488\u001b[0m     \u001b[39mfrom\u001b[39;00m \u001b[39mpandas\u001b[39;00m\u001b[39m.\u001b[39;00m\u001b[39mcore\u001b[39;00m\u001b[39m.\u001b[39;00m\u001b[39mreshape\u001b[39;00m\u001b[39m.\u001b[39;00m\u001b[39mmerge\u001b[39;00m \u001b[39mimport\u001b[39;00m merge\n\u001b[1;32m> 10490\u001b[0m     \u001b[39mreturn\u001b[39;00m merge(\n\u001b[0;32m  10491\u001b[0m         \u001b[39mself\u001b[39;49m,\n\u001b[0;32m  10492\u001b[0m         right,\n\u001b[0;32m  10493\u001b[0m         how\u001b[39m=\u001b[39;49mhow,\n\u001b[0;32m  10494\u001b[0m         on\u001b[39m=\u001b[39;49mon,\n\u001b[0;32m  10495\u001b[0m         left_on\u001b[39m=\u001b[39;49mleft_on,\n\u001b[0;32m  10496\u001b[0m         right_on\u001b[39m=\u001b[39;49mright_on,\n\u001b[0;32m  10497\u001b[0m         left_index\u001b[39m=\u001b[39;49mleft_index,\n\u001b[0;32m  10498\u001b[0m         right_index\u001b[39m=\u001b[39;49mright_index,\n\u001b[0;32m  10499\u001b[0m         sort\u001b[39m=\u001b[39;49msort,\n\u001b[0;32m  10500\u001b[0m         suffixes\u001b[39m=\u001b[39;49msuffixes,\n\u001b[0;32m  10501\u001b[0m         copy\u001b[39m=\u001b[39;49mcopy,\n\u001b[0;32m  10502\u001b[0m         indicator\u001b[39m=\u001b[39;49mindicator,\n\u001b[0;32m  10503\u001b[0m         validate\u001b[39m=\u001b[39;49mvalidate,\n\u001b[0;32m  10504\u001b[0m     )\n",
      "File \u001b[1;32mc:\\Users\\Admin\\AppData\\Local\\Programs\\Python\\Python311\\Lib\\site-packages\\pandas\\core\\reshape\\merge.py:152\u001b[0m, in \u001b[0;36mmerge\u001b[1;34m(left, right, how, on, left_on, right_on, left_index, right_index, sort, suffixes, copy, indicator, validate)\u001b[0m\n\u001b[0;32m    134\u001b[0m \u001b[39m@Substitution\u001b[39m(\u001b[39m\"\u001b[39m\u001b[39m\\n\u001b[39;00m\u001b[39mleft : DataFrame or named Series\u001b[39m\u001b[39m\"\u001b[39m)\n\u001b[0;32m    135\u001b[0m \u001b[39m@Appender\u001b[39m(_merge_doc, indents\u001b[39m=\u001b[39m\u001b[39m0\u001b[39m)\n\u001b[0;32m    136\u001b[0m \u001b[39mdef\u001b[39;00m \u001b[39mmerge\u001b[39m(\n\u001b[1;32m   (...)\u001b[0m\n\u001b[0;32m    149\u001b[0m     validate: \u001b[39mstr\u001b[39m \u001b[39m|\u001b[39m \u001b[39mNone\u001b[39;00m \u001b[39m=\u001b[39m \u001b[39mNone\u001b[39;00m,\n\u001b[0;32m    150\u001b[0m ) \u001b[39m-\u001b[39m\u001b[39m>\u001b[39m DataFrame:\n\u001b[0;32m    151\u001b[0m     left_df \u001b[39m=\u001b[39m _validate_operand(left)\n\u001b[1;32m--> 152\u001b[0m     right_df \u001b[39m=\u001b[39m _validate_operand(right)\n\u001b[0;32m    153\u001b[0m     \u001b[39mif\u001b[39;00m how \u001b[39m==\u001b[39m \u001b[39m\"\u001b[39m\u001b[39mcross\u001b[39m\u001b[39m\"\u001b[39m:\n\u001b[0;32m    154\u001b[0m         \u001b[39mreturn\u001b[39;00m _cross_merge(\n\u001b[0;32m    155\u001b[0m             left_df,\n\u001b[0;32m    156\u001b[0m             right_df,\n\u001b[1;32m   (...)\u001b[0m\n\u001b[0;32m    166\u001b[0m             copy\u001b[39m=\u001b[39mcopy,\n\u001b[0;32m    167\u001b[0m         )\n",
      "File \u001b[1;32mc:\\Users\\Admin\\AppData\\Local\\Programs\\Python\\Python311\\Lib\\site-packages\\pandas\\core\\reshape\\merge.py:2626\u001b[0m, in \u001b[0;36m_validate_operand\u001b[1;34m(obj)\u001b[0m\n\u001b[0;32m   2624\u001b[0m     \u001b[39mreturn\u001b[39;00m obj\u001b[39m.\u001b[39mto_frame()\n\u001b[0;32m   2625\u001b[0m \u001b[39melse\u001b[39;00m:\n\u001b[1;32m-> 2626\u001b[0m     \u001b[39mraise\u001b[39;00m \u001b[39mTypeError\u001b[39;00m(\n\u001b[0;32m   2627\u001b[0m         \u001b[39mf\u001b[39m\u001b[39m\"\u001b[39m\u001b[39mCan only merge Series or DataFrame objects, a \u001b[39m\u001b[39m{\u001b[39;00m\u001b[39mtype\u001b[39m(obj)\u001b[39m}\u001b[39;00m\u001b[39m was passed\u001b[39m\u001b[39m\"\u001b[39m\n\u001b[0;32m   2628\u001b[0m     )\n",
      "\u001b[1;31mTypeError\u001b[0m: Can only merge Series or DataFrame objects, a <class 'str'> was passed"
     ]
    }
   ],
   "source": [
    "# merge 3 df\n",
    "satis_table = review.merge(order, on = 'order_id').merge(item, on ='order_id')\n",
    "# labeling customer review score\n",
    "satis_table['satisfaction'] = satis_table['review_score'].apply(lambda x:\n",
    "                                  \"negative_order\" if x < 3\n",
    "                                  else(\n",
    "                                       \"positive_order\" if x > 3\n",
    "                                       else \"neutral\"\n",
    "                                  )                           \n",
    "                                  )\n",
    "# group by the product - satisfaction, get the count of occurrence\n",
    "satis_table = satis_table.groupby(['product_id','satisfaction']).agg({'order_id':'count'}).reset_index().sort_values('order_id',ascending=False)\n",
    "# get top 10 positive products, top 10 negative products\n",
    "top_10_pos = satis_table[satis_table['satisfaction'] == 'positive_order'][:10]\n",
    "top_10_neg = satis_table[satis_table['satisfaction'] == 'negative_order'][:10]"
   ]
  },
  {
   "cell_type": "markdown",
   "metadata": {},
   "source": [
    "## Check for the seasonality "
   ]
  },
  {
   "cell_type": "code",
   "execution_count": null,
   "metadata": {},
   "outputs": [],
   "source": [
    "order['order_purchase_timestamp'] = pd.to_datetime(order['order_purchase_timestamp'])\n",
    "# get the month 'order_purchase_timestamp'\n",
    "order['month'] = order['order_purchase_timestamp'].dt.strftime(\"%m\")\n",
    "# merge with payment\n",
    "seasonality_table = order.merge(payment, on='order_id')\n",
    "# groupby month, get sum payment_value\n",
    "seasonality_table = seasonality_table.groupby('month').agg({'payment_value':'mean'}).reset_index()\n"
   ]
  },
  {
   "cell_type": "code",
   "execution_count": null,
   "metadata": {},
   "outputs": [
    {
     "data": {
      "text/plain": [
       "[<matplotlib.lines.Line2D at 0x2d49c75a010>]"
      ]
     },
     "execution_count": 4,
     "metadata": {},
     "output_type": "execute_result"
    },
    {
     "data": {
      "image/png": "[encoded data removed]",
      "text/plain": [
       "<Figure size 640x480 with 1 Axes>"
      ]
     },
     "metadata": {},
     "output_type": "display_data"
    }
   ],
   "source": [
    "# visualize the data\n",
    "fig, ax = plt.subplots()\n",
    "sns.set_theme(style='dark')\n",
    "\n",
    "ax.plot(\n",
    "    seasonality_table['month'],\n",
    "    seasonality_table['payment_value']\n",
    ")\n",
    "\n",
    "ax.plot(\n",
    "    seasonality_table['month'],\n",
    "    [seasonality_table['payment_value'].mean()] * 12\n",
    ")\n"
   ]
  }
 ],
 "metadata": {
  "kernelspec": {
   "display_name": "Python 3",
   "language": "python",
   "name": "python3"
  },
  "language_info": {
   "codemirror_mode": {
    "name": "ipython",
    "version": 3
   },
   "file_extension": ".py",
   "mimetype": "text/x-python",
   "name": "python",
   "nbconvert_exporter": "python",
   "pygments_lexer": "ipython3",
   "version": "3.11.4"
  },
  "orig_nbformat": 4
 },
 "nbformat": 4,
 "nbformat_minor": 2
}
